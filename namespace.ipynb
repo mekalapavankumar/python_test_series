{
  "nbformat": 4,
  "nbformat_minor": 0,
  "metadata": {
    "colab": {
      "provenance": [],
      "authorship_tag": "ABX9TyMjsC8j4tNbpQqbHDZWb/c3",
      "include_colab_link": true
    },
    "kernelspec": {
      "name": "python3",
      "display_name": "Python 3"
    },
    "language_info": {
      "name": "python"
    }
  },
  "cells": [
    {
      "cell_type": "markdown",
      "metadata": {
        "id": "view-in-github",
        "colab_type": "text"
      },
      "source": [
        "<a href=\"https://colab.research.google.com/github/mekalapavankumar/python_test_series/blob/main/namespace.ipynb\" target=\"_parent\"><img src=\"https://colab.research.google.com/assets/colab-badge.svg\" alt=\"Open In Colab\"/></a>"
      ]
    },
    {
      "cell_type": "markdown",
      "source": [
        "1.**Import the built-in datetime module and display the namespace of this module (sorted alphabetically) as given below.**\n",
        "\n"
      ],
      "metadata": {
        "id": "lVYIpIMXreTb"
      }
    },
    {
      "cell_type": "code",
      "execution_count": 1,
      "metadata": {
        "colab": {
          "base_uri": "https://localhost:8080/"
        },
        "id": "SQtDNkR0rXxF",
        "outputId": "83bfb045-e178-4e68-87e8-69173990ab90"
      },
      "outputs": [
        {
          "output_type": "stream",
          "name": "stdout",
          "text": [
            "MAXYEAR\n",
            "MINYEAR\n",
            "__builtins__\n",
            "__cached__\n",
            "__doc__\n",
            "__file__\n",
            "__loader__\n",
            "__name__\n",
            "__package__\n",
            "__spec__\n",
            "date\n",
            "datetime\n",
            "datetime_CAPI\n",
            "sys\n",
            "time\n",
            "timedelta\n",
            "timezone\n",
            "tzinfo\n"
          ]
        }
      ],
      "source": [
        "import datetime\n",
        "for i in sorted(datetime.__dict__):\n",
        "  print(i)"
      ]
    },
    {
      "cell_type": "markdown",
      "source": [
        "2.**The Product class is given below. Display the namespace (value of the __dict__ attribute) of this class as shown below.**\n",
        "\n"
      ],
      "metadata": {
        "id": "HBus8QMer2IQ"
      }
    },
    {
      "cell_type": "code",
      "source": [
        "import uuid\n",
        "class Product:\n",
        "  def __init__(self,name,id,price):\n",
        "    self.name = name\n",
        "    self.id = id\n",
        "    self.price = price\n",
        "\n",
        "  def __repr__(self):\n",
        "    return (\n",
        "        f\"product(product_name='{self.product_name}',\"\n",
        "        f\"price={self.price})\"\n",
        "    )\n",
        "\n",
        "  @staticmethod\n",
        "  def get_id():\n",
        "    return str(uuid.uuid4().fields[-1])[:6]\n",
        "\n",
        " \n",
        "for name in Product.__dict__:\n",
        "    print(name)\n",
        "  "
      ],
      "metadata": {
        "colab": {
          "base_uri": "https://localhost:8080/"
        },
        "id": "V7zU-BcDrsyV",
        "outputId": "9e4d4662-c3dc-44d6-f917-8020bcdec0b8"
      },
      "execution_count": 2,
      "outputs": [
        {
          "output_type": "stream",
          "name": "stdout",
          "text": [
            "__module__\n",
            "__init__\n",
            "__repr__\n",
            "get_id\n",
            "__dict__\n",
            "__weakref__\n",
            "__doc__\n"
          ]
        }
      ]
    },
    {
      "cell_type": "code",
      "source": [],
      "metadata": {
        "id": "YXf5OQyZtMNF"
      },
      "execution_count": null,
      "outputs": []
    }
  ]
}